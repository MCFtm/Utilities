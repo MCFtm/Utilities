{
 "cells": [
  {
   "cell_type": "markdown",
   "metadata": {
    "collapsed": true
   },
   "source": [
    "# Image Viewing\n"
   ]
  },
  {
   "cell_type": "code",
   "execution_count": 1,
   "metadata": {
    "collapsed": true
   },
   "outputs": [],
   "source": [
    "folder='/home/mcftm/distance measurement/'\n",
    "file='test1.jpg'\n",
    "folder_file=folder+file"
   ]
  },
  {
   "cell_type": "markdown",
   "metadata": {},
   "source": [
    "## 1.) scipy"
   ]
  },
  {
   "cell_type": "code",
   "execution_count": 2,
   "metadata": {
    "collapsed": false
   },
   "outputs": [],
   "source": [
    "import scipy.misc\n",
    "import PIL\n",
    "\n",
    "A=scipy.misc.imread(folder_file)\n",
    "#print(A) #Listet Pixel-Matrix auf\n",
    "scipy.misc.imshow(A)"
   ]
  },
  {
   "cell_type": "code",
   "execution_count": null,
   "metadata": {
    "collapsed": false,
    "scrolled": true
   },
   "outputs": [],
   "source": [
    "import PIL\n",
    "import scipy.misc.pilutil #from scipy import misc\n",
    "\n",
    "misc.pilutil.imshow(folder_file)"
   ]
  },
  {
   "cell_type": "code",
   "execution_count": null,
   "metadata": {
    "collapsed": false
   },
   "outputs": [],
   "source": [
    "#import os\n",
    "#files_in_folder=os.listdir(folder)\n",
    "#print(files_in_folder)\n",
    "\n",
    "from PIL import Image\n",
    "img = Image.open(folder_file)\n",
    "img.show() "
   ]
  },
  {
   "cell_type": "code",
   "execution_count": 1,
   "metadata": {
    "collapsed": false
   },
   "outputs": [
    {
     "ename": "NameError",
     "evalue": "name 'folder_file' is not defined",
     "output_type": "error",
     "traceback": [
      "\u001b[0;31m---------------------------------------------------------------------------\u001b[0m",
      "\u001b[0;31mNameError\u001b[0m                                 Traceback (most recent call last)",
      "\u001b[0;32m<ipython-input-1-b59ec0b9b5fe>\u001b[0m in \u001b[0;36m<module>\u001b[0;34m()\u001b[0m\n\u001b[1;32m      3\u001b[0m \u001b[0;32mimport\u001b[0m \u001b[0mnumpy\u001b[0m \u001b[0;32mas\u001b[0m \u001b[0mnp\u001b[0m\u001b[0;34m\u001b[0m\u001b[0m\n\u001b[1;32m      4\u001b[0m \u001b[0;34m\u001b[0m\u001b[0m\n\u001b[0;32m----> 5\u001b[0;31m \u001b[0mimg\u001b[0m\u001b[0;34m=\u001b[0m\u001b[0mmpimg\u001b[0m\u001b[0;34m.\u001b[0m\u001b[0mimread\u001b[0m\u001b[0;34m(\u001b[0m\u001b[0mfolder_file\u001b[0m\u001b[0;34m)\u001b[0m\u001b[0;34m\u001b[0m\u001b[0m\n\u001b[0m\u001b[1;32m      6\u001b[0m \u001b[0;31m#print(img)\u001b[0m\u001b[0;34m\u001b[0m\u001b[0;34m\u001b[0m\u001b[0m\n\u001b[1;32m      7\u001b[0m \u001b[0;31m#B=np.size(img)\u001b[0m\u001b[0;34m\u001b[0m\u001b[0;34m\u001b[0m\u001b[0m\n",
      "\u001b[0;31mNameError\u001b[0m: name 'folder_file' is not defined"
     ]
    }
   ],
   "source": [
    "import matplotlib.pyplot as plt\n",
    "import matplotlib.image as mpimg\n",
    "import numpy as np\n",
    "\n",
    "img=mpimg.imread(folder_file)\n",
    "#print(img)\n",
    "#B=np.size(img)\n",
    "#print(B)\n",
    "#C=np.ndim(img)\n",
    "#print(C)\n",
    "plt.imshow(img)\n",
    "plt.show()"
   ]
  },
  {
   "cell_type": "code",
   "execution_count": null,
   "metadata": {
    "collapsed": false
   },
   "outputs": [],
   "source": [
    "from scipy import misc\n",
    "f = misc.face()\n",
    "misc.imsave('face.png', f) # uses the Image module (PIL)\n",
    "\n",
    "import matplotlib.pyplot as plt\n",
    "plt.imshow(f)\n",
    "plt.show()"
   ]
  },
  {
   "cell_type": "code",
   "execution_count": null,
   "metadata": {
    "collapsed": false
   },
   "outputs": [],
   "source": [
    "from PIL import Image\n",
    "\n",
    "im = Image.open(folder_file)\n",
    "print(im.format, im.size, im.mode)\n",
    "r,g,b = im.split()\n",
    "im.show()\n",
    "r.show()\n",
    "g.show()\n",
    "b.show()\n",
    "\n",
    "#NumPy Array\n",
    "import numpy as np\n",
    "A=np.arange(10)\n",
    "print(A)"
   ]
  },
  {
   "cell_type": "code",
   "execution_count": null,
   "metadata": {
    "collapsed": true
   },
   "outputs": [],
   "source": [
    "#Funktioniert: Text-Datei öffnen \n",
    "#folder=\"/home/mcftm/Arbeitsfläche/Deep Learning/\"\n",
    "#file='Extract.m'\n",
    "#file_folder=folder+file\n",
    "#f=open(file_folder)\n",
    "#cont=f.read()\n",
    "#print(cont)\n",
    "#f.close()"
   ]
  },
  {
   "cell_type": "code",
   "execution_count": null,
   "metadata": {
    "collapsed": true
   },
   "outputs": [],
   "source": [
    "#Funktioniert: Pickle-Datei als Aray öffnen\n",
    "import numpy as np\n",
    "folder=\"/home/mcftm/Arbeitsfläche/Deep Learning/notMNIST_large/\"\n",
    "file='J.pickle'\n",
    "full_file=folder+file\n",
    "A=np.load(full_file)\n",
    "B=np.size(A)\n",
    "print(B)\n",
    "C=A[15000,:,:]\n",
    "print(np.ndim((C)))\n",
    "\n",
    "#Funktioniert: Plot eine Scheibe aus Pickle-Datei\n",
    "import matplotlib.pyplot as plt\n",
    "plt.imshow(C)\n",
    "plt.show()\n",
    "\n",
    "#import time\n",
    "\n",
    "#plt.close()\n",
    "#D=A[10000,:,:]\n",
    "#plt.imshow(D)\n",
    "#plt.show()\n",
    "#plt.imshow(C)\n",
    "#plt.show()"
   ]
  },
  {
   "cell_type": "code",
   "execution_count": null,
   "metadata": {
    "collapsed": false
   },
   "outputs": [],
   "source": [
    "from IPython.display import display, Image\n",
    "import os\n",
    "\n",
    "full_file=os.path.join(folder, file)\n",
    "i=Image(full_file)\n",
    "display(i)"
   ]
  },
  {
   "cell_type": "code",
   "execution_count": null,
   "metadata": {
    "collapsed": false
   },
   "outputs": [],
   "source": [
    "from __future__ import print_function\n",
    "import matplotlib.pyplot as plt\n",
    "import numpy as np\n",
    "import os\n",
    "import sys\n",
    "from IPython.display import display, Image\n",
    "from scipy import ndimage\n",
    "\n",
    "A=np.load(folder_file)\n",
    "B=np.size(A)\n",
    "print(A)\n",
    "print(B)"
   ]
  },
  {
   "cell_type": "code",
   "execution_count": null,
   "metadata": {
    "collapsed": true
   },
   "outputs": [],
   "source": [
    "from __future__ import print_function\n",
    "import random\n",
    "import matplotlib.pyplot as plt\n",
    "import numpy as np\n",
    "import os\n",
    "import sys\n",
    "import tarfile\n",
    "from IPython.display import display, Image\n",
    "from scipy import ndimage\n",
    "from sklearn.linear_model import LogisticRegression\n",
    "from six.moves.urllib.request import urlretrieve\n",
    "from six.moves import cPickle as pickle\n",
    "\n",
    "def disp_samples(data_folders, sample_size):\n",
    "  for folder in data_folders:\n",
    "    print(folder)\n",
    "    image_files = os.listdir(folder)\n",
    "    image_sample = random.sample(image_files, sample_size)\n",
    "    for image in image_sample:\n",
    "      image_file = os.path.join(folder, image)\n",
    "      i = Image(filename=image_file)\n",
    "      display(i)\n",
    " \n",
    "train_folders='/home/mcftm/Arbeitsfläche/Deep Learning/notMNIST_small/'\n",
    "     \n",
    "disp_samples(train_folders, 1)\n"
   ]
  },
  {
   "cell_type": "code",
   "execution_count": null,
   "metadata": {
    "collapsed": true
   },
   "outputs": [],
   "source": [
    "import os\n",
    "\n",
    "letter=raw_input(\"Welcher Buchstabe A-J:\")\n",
    "print(letter)\n",
    "folder='/home/mcftm/Arbeitsfläche/Deep Learning/notMNIST_large/'+str(letter)+'/'\n",
    "print(folder)\n",
    "files_in_folder=os.listdir(folder)\n",
    "#print(files_in_folder)\n",
    "\n",
    "view=raw_input(\"Darstellung 1=Image, 2=IPython:\")\n",
    "print(view)\n",
    "counter=0\n",
    "for file in files_in_folder:\n",
    "    counter+=1\n",
    "    if counter==6:\n",
    "        break\n",
    "    if view=='1':\n",
    "        import Image\n",
    "        im = Image.open(folder+file)\n",
    "        im.show()\n",
    "#    if view=='2':\n",
    "#        from IPython.display import display, Image\n",
    "#        display(Image(folder+file))\n"
   ]
  }
 ],
 "metadata": {
  "anaconda-cloud": {},
  "kernelspec": {
   "display_name": "Python 3",
   "language": "python",
   "name": "python3"
  },
  "language_info": {
   "codemirror_mode": {
    "name": "ipython",
    "version": 3
   },
   "file_extension": ".py",
   "mimetype": "text/x-python",
   "name": "python",
   "nbconvert_exporter": "python",
   "pygments_lexer": "ipython3",
   "version": "3.6.0"
  }
 },
 "nbformat": 4,
 "nbformat_minor": 1
}
