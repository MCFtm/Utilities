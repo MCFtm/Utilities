{
 "cells": [
  {
   "cell_type": "code",
   "execution_count": null,
   "metadata": {
    "collapsed": true,
    "scrolled": true
   },
   "outputs": [],
   "source": [
    "#Matrixoperation:\n",
    "#C=[[1,2],[3,4]]\n",
    "#C[1][1]\n",
    "#from numpy import matrix\n",
    "#from numpy import linalg\n",
    "#A = matrix( [[1,2,3],[11,12,13],[21,22,23]]) # Creates a matrix.\n",
    "#x = matrix( [[1],[2],[3]] )                  # Creates a matrix (like a column vector).\n",
    "#y = matrix( [[1,2,3]] )                      # Creates a matrix (like a row vector).\n",
    "#print A.T                                    # Transpose of A.\n",
    "#print A*x                                    # Matrix multiplication of A and x.\n",
    "#print A.I                                    # Inverse of A.\n",
    "#print linalg.solve(A, x)     # Solve the linear equation system."
   ]
  },
  {
   "cell_type": "code",
   "execution_count": null,
   "metadata": {
    "collapsed": true
   },
   "outputs": [],
   "source": [
    "import numpy as np\n",
    "A=([1,2,3],[4,5,6],[7,8,9])\n",
    "B=([9,8,7],[6,5,4],[3,2,1])\n",
    "A=np.array(A)\n",
    "B=np.array(B)\n",
    "A,B"
   ]
  },
  {
   "cell_type": "code",
   "execution_count": null,
   "metadata": {
    "collapsed": true
   },
   "outputs": [],
   "source": [
    "np.multiply(A,B)  #Bitwise Multiplication"
   ]
  },
  {
   "cell_type": "code",
   "execution_count": null,
   "metadata": {
    "collapsed": true
   },
   "outputs": [],
   "source": [
    "cv2.bitwise_and(np.array([1,0,0]),np.array([1,0,1]))"
   ]
  }
 ],
 "metadata": {
  "anaconda-cloud": {},
  "kernelspec": {
   "display_name": "Python 2",
   "language": "python",
   "name": "python2"
  },
  "language_info": {
   "codemirror_mode": {
    "name": "ipython",
    "version": 2
   },
   "file_extension": ".py",
   "mimetype": "text/x-python",
   "name": "python",
   "nbconvert_exporter": "python",
   "pygments_lexer": "ipython2",
   "version": "2.7.13"
  }
 },
 "nbformat": 4,
 "nbformat_minor": 1
}
